{
 "cells": [
  {
   "cell_type": "code",
   "execution_count": 41,
   "metadata": {},
   "outputs": [],
   "source": [
    "#Part A\n",
    "#Get .csv files from Yahoo Finance"
   ]
  },
  {
   "cell_type": "code",
   "execution_count": 42,
   "metadata": {},
   "outputs": [
    {
     "data": {
      "text/html": [
       "<div>\n",
       "<style scoped>\n",
       "    .dataframe tbody tr th:only-of-type {\n",
       "        vertical-align: middle;\n",
       "    }\n",
       "\n",
       "    .dataframe tbody tr th {\n",
       "        vertical-align: top;\n",
       "    }\n",
       "\n",
       "    .dataframe thead th {\n",
       "        text-align: right;\n",
       "    }\n",
       "</style>\n",
       "<table border=\"1\" class=\"dataframe\">\n",
       "  <thead>\n",
       "    <tr style=\"text-align: right;\">\n",
       "      <th></th>\n",
       "      <th>Open</th>\n",
       "      <th>High</th>\n",
       "      <th>Low</th>\n",
       "      <th>Close</th>\n",
       "      <th>Adj Close</th>\n",
       "      <th>Volume</th>\n",
       "    </tr>\n",
       "    <tr>\n",
       "      <th>Date</th>\n",
       "      <th></th>\n",
       "      <th></th>\n",
       "      <th></th>\n",
       "      <th></th>\n",
       "      <th></th>\n",
       "      <th></th>\n",
       "    </tr>\n",
       "  </thead>\n",
       "  <tbody>\n",
       "    <tr>\n",
       "      <td>2015-02-27</td>\n",
       "      <td>558.150024</td>\n",
       "      <td>569.419983</td>\n",
       "      <td>557.030029</td>\n",
       "      <td>562.630005</td>\n",
       "      <td>562.630005</td>\n",
       "      <td>3416400</td>\n",
       "    </tr>\n",
       "    <tr>\n",
       "      <td>2015-03-02</td>\n",
       "      <td>567.000000</td>\n",
       "      <td>575.989990</td>\n",
       "      <td>563.150024</td>\n",
       "      <td>575.020020</td>\n",
       "      <td>575.020020</td>\n",
       "      <td>2520300</td>\n",
       "    </tr>\n",
       "    <tr>\n",
       "      <td>2015-03-03</td>\n",
       "      <td>576.349976</td>\n",
       "      <td>580.849976</td>\n",
       "      <td>570.500000</td>\n",
       "      <td>578.789978</td>\n",
       "      <td>578.789978</td>\n",
       "      <td>2526300</td>\n",
       "    </tr>\n",
       "    <tr>\n",
       "      <td>2015-03-04</td>\n",
       "      <td>576.969971</td>\n",
       "      <td>581.630005</td>\n",
       "      <td>572.520020</td>\n",
       "      <td>578.330017</td>\n",
       "      <td>578.330017</td>\n",
       "      <td>1898200</td>\n",
       "    </tr>\n",
       "    <tr>\n",
       "      <td>2015-03-05</td>\n",
       "      <td>579.619995</td>\n",
       "      <td>583.200012</td>\n",
       "      <td>578.229980</td>\n",
       "      <td>581.429993</td>\n",
       "      <td>581.429993</td>\n",
       "      <td>1795900</td>\n",
       "    </tr>\n",
       "    <tr>\n",
       "      <td>...</td>\n",
       "      <td>...</td>\n",
       "      <td>...</td>\n",
       "      <td>...</td>\n",
       "      <td>...</td>\n",
       "      <td>...</td>\n",
       "      <td>...</td>\n",
       "    </tr>\n",
       "    <tr>\n",
       "      <td>2020-02-20</td>\n",
       "      <td>1519.010010</td>\n",
       "      <td>1527.069946</td>\n",
       "      <td>1504.260010</td>\n",
       "      <td>1516.989990</td>\n",
       "      <td>1516.989990</td>\n",
       "      <td>1298100</td>\n",
       "    </tr>\n",
       "    <tr>\n",
       "      <td>2020-02-21</td>\n",
       "      <td>1504.579956</td>\n",
       "      <td>1510.949951</td>\n",
       "      <td>1478.489990</td>\n",
       "      <td>1483.459961</td>\n",
       "      <td>1483.459961</td>\n",
       "      <td>2126000</td>\n",
       "    </tr>\n",
       "    <tr>\n",
       "      <td>2020-02-24</td>\n",
       "      <td>1423.050049</td>\n",
       "      <td>1436.380005</td>\n",
       "      <td>1406.790039</td>\n",
       "      <td>1419.859985</td>\n",
       "      <td>1419.859985</td>\n",
       "      <td>2478000</td>\n",
       "    </tr>\n",
       "    <tr>\n",
       "      <td>2020-02-25</td>\n",
       "      <td>1431.000000</td>\n",
       "      <td>1436.849976</td>\n",
       "      <td>1380.420044</td>\n",
       "      <td>1386.319946</td>\n",
       "      <td>1386.319946</td>\n",
       "      <td>2579000</td>\n",
       "    </tr>\n",
       "    <tr>\n",
       "      <td>2020-02-26</td>\n",
       "      <td>1394.979980</td>\n",
       "      <td>1413.670044</td>\n",
       "      <td>1376.550049</td>\n",
       "      <td>1390.469971</td>\n",
       "      <td>1390.469971</td>\n",
       "      <td>2488800</td>\n",
       "    </tr>\n",
       "  </tbody>\n",
       "</table>\n",
       "<p>1258 rows × 6 columns</p>\n",
       "</div>"
      ],
      "text/plain": [
       "                   Open         High          Low        Close    Adj Close  \\\n",
       "Date                                                                          \n",
       "2015-02-27   558.150024   569.419983   557.030029   562.630005   562.630005   \n",
       "2015-03-02   567.000000   575.989990   563.150024   575.020020   575.020020   \n",
       "2015-03-03   576.349976   580.849976   570.500000   578.789978   578.789978   \n",
       "2015-03-04   576.969971   581.630005   572.520020   578.330017   578.330017   \n",
       "2015-03-05   579.619995   583.200012   578.229980   581.429993   581.429993   \n",
       "...                 ...          ...          ...          ...          ...   \n",
       "2020-02-20  1519.010010  1527.069946  1504.260010  1516.989990  1516.989990   \n",
       "2020-02-21  1504.579956  1510.949951  1478.489990  1483.459961  1483.459961   \n",
       "2020-02-24  1423.050049  1436.380005  1406.790039  1419.859985  1419.859985   \n",
       "2020-02-25  1431.000000  1436.849976  1380.420044  1386.319946  1386.319946   \n",
       "2020-02-26  1394.979980  1413.670044  1376.550049  1390.469971  1390.469971   \n",
       "\n",
       "             Volume  \n",
       "Date                 \n",
       "2015-02-27  3416400  \n",
       "2015-03-02  2520300  \n",
       "2015-03-03  2526300  \n",
       "2015-03-04  1898200  \n",
       "2015-03-05  1795900  \n",
       "...             ...  \n",
       "2020-02-20  1298100  \n",
       "2020-02-21  2126000  \n",
       "2020-02-24  2478000  \n",
       "2020-02-25  2579000  \n",
       "2020-02-26  2488800  \n",
       "\n",
       "[1258 rows x 6 columns]"
      ]
     },
     "execution_count": 42,
     "metadata": {},
     "output_type": "execute_result"
    }
   ],
   "source": [
    "#Part B\n",
    "# Turn .csv data into a DataFrame\n",
    "import pandas as pd\n",
    "GOOGL_DF = pd.read_csv('GOOGL_Historicals.csv', index_col=0, parse_dates=True)\n",
    "GOOGL_DF"
   ]
  },
  {
   "cell_type": "code",
   "execution_count": 43,
   "metadata": {},
   "outputs": [
    {
     "data": {
      "image/png": "[encoded data removed]",
      "text/plain": [
       "<Figure size 432x288 with 1 Axes>"
      ]
     },
     "metadata": {
      "needs_background": "light"
     },
     "output_type": "display_data"
    }
   ],
   "source": [
    "# plot GOOGL line chart\n",
    "import matplotlib.pyplot as plt\n",
    "\n",
    "plt.title(\"GOOGL Daily Adjusted Closing Price\")\n",
    "plt.plot(GOOGL_DF.index, GOOGL_DF[\"Adj Close\"], label='GOOGL')\n",
    "plt.show()\n"
   ]
  },
  {
   "cell_type": "code",
   "execution_count": 44,
   "metadata": {},
   "outputs": [
    {
     "data": {
      "image/png": "[encoded data removed]",
      "text/plain": [
       "<Figure size 432x288 with 1 Axes>"
      ]
     },
     "metadata": {
      "needs_background": "light"
     },
     "output_type": "display_data"
    }
   ],
   "source": [
    "#Part C\n",
    "#Created a line chart comparing growth of GOOGl to ^GSPC\n",
    "SP500_DF = pd.read_csv('^GSPC.csv', index_col = 0, parse_dates = True)\n",
    "\n",
    "plt.title(\"GOOGL Daily Adjusted Closing Price\")\n",
    "plt.plot(GOOGL_DF.index, GOOGL_DF[\"Adj Close\"], label='GOOGL')\n",
    "plt.plot(SP500_DF.index, SP500_DF['Adj Close'], label = 'S&P 500')\n",
    "plt.legend(loc='upper left')\n",
    "plt.show()"
   ]
  },
  {
   "cell_type": "code",
   "execution_count": 45,
   "metadata": {},
   "outputs": [],
   "source": [
    "#Found GOOGL's and ^GSPC's start and end prices for the 5 year period\n",
    "GOOGL_start_price = GOOGL_DF['Adj Close'].values[0]\n",
    "GOOGL_end_price = GOOGL_DF['Adj Close'].values[len(GOOGL_DF.index) - 1]\n",
    "\n",
    "SP500_start_price = SP500_DF['Adj Close'].values[0]\n",
    "SP500_end_price = SP500_DF['Adj Close'].values[len(SP500_DF.index) - 1]"
   ]
  },
  {
   "cell_type": "code",
   "execution_count": 46,
   "metadata": {},
   "outputs": [
    {
     "name": "stdout",
     "output_type": "stream",
     "text": [
      "GOOGL grew by 247.14%\n",
      "^GSPC grew by 148.08%\n"
     ]
    }
   ],
   "source": [
    "#Calculated percentage growth of GOOGL and ^GSPC\n",
    "\n",
    "GOOGL_Performance = (GOOGL_end_price / GOOGL_start_price) * 100\n",
    "SP500_Performance = (SP500_end_price / SP500_start_price) * 100\n",
    "\n",
    "print('GOOGL grew by ', round(GOOGL_Performance, 2), '%', sep = '')\n",
    "print('^GSPC grew by ', round(SP500_Performance, 2), '%', sep = '')"
   ]
  },
  {
   "cell_type": "code",
   "execution_count": 47,
   "metadata": {},
   "outputs": [
    {
     "data": {
      "text/html": [
       "<div>\n",
       "<style scoped>\n",
       "    .dataframe tbody tr th:only-of-type {\n",
       "        vertical-align: middle;\n",
       "    }\n",
       "\n",
       "    .dataframe tbody tr th {\n",
       "        vertical-align: top;\n",
       "    }\n",
       "\n",
       "    .dataframe thead th {\n",
       "        text-align: right;\n",
       "    }\n",
       "</style>\n",
       "<table border=\"1\" class=\"dataframe\">\n",
       "  <thead>\n",
       "    <tr style=\"text-align: right;\">\n",
       "      <th></th>\n",
       "      <th>Open</th>\n",
       "      <th>High</th>\n",
       "      <th>Low</th>\n",
       "      <th>Close</th>\n",
       "      <th>Adj Close</th>\n",
       "      <th>Volume</th>\n",
       "      <th>Daily Return</th>\n",
       "    </tr>\n",
       "    <tr>\n",
       "      <th>Date</th>\n",
       "      <th></th>\n",
       "      <th></th>\n",
       "      <th></th>\n",
       "      <th></th>\n",
       "      <th></th>\n",
       "      <th></th>\n",
       "      <th></th>\n",
       "    </tr>\n",
       "  </thead>\n",
       "  <tbody>\n",
       "    <tr>\n",
       "      <td>2015-02-27</td>\n",
       "      <td>558.150024</td>\n",
       "      <td>569.419983</td>\n",
       "      <td>557.030029</td>\n",
       "      <td>562.630005</td>\n",
       "      <td>562.630005</td>\n",
       "      <td>3416400</td>\n",
       "      <td>NaN</td>\n",
       "    </tr>\n",
       "    <tr>\n",
       "      <td>2015-03-02</td>\n",
       "      <td>567.000000</td>\n",
       "      <td>575.989990</td>\n",
       "      <td>563.150024</td>\n",
       "      <td>575.020020</td>\n",
       "      <td>575.020020</td>\n",
       "      <td>2520300</td>\n",
       "      <td>0.022022</td>\n",
       "    </tr>\n",
       "    <tr>\n",
       "      <td>2015-03-03</td>\n",
       "      <td>576.349976</td>\n",
       "      <td>580.849976</td>\n",
       "      <td>570.500000</td>\n",
       "      <td>578.789978</td>\n",
       "      <td>578.789978</td>\n",
       "      <td>2526300</td>\n",
       "      <td>0.006556</td>\n",
       "    </tr>\n",
       "    <tr>\n",
       "      <td>2015-03-04</td>\n",
       "      <td>576.969971</td>\n",
       "      <td>581.630005</td>\n",
       "      <td>572.520020</td>\n",
       "      <td>578.330017</td>\n",
       "      <td>578.330017</td>\n",
       "      <td>1898200</td>\n",
       "      <td>-0.000795</td>\n",
       "    </tr>\n",
       "    <tr>\n",
       "      <td>2015-03-05</td>\n",
       "      <td>579.619995</td>\n",
       "      <td>583.200012</td>\n",
       "      <td>578.229980</td>\n",
       "      <td>581.429993</td>\n",
       "      <td>581.429993</td>\n",
       "      <td>1795900</td>\n",
       "      <td>0.005360</td>\n",
       "    </tr>\n",
       "    <tr>\n",
       "      <td>...</td>\n",
       "      <td>...</td>\n",
       "      <td>...</td>\n",
       "      <td>...</td>\n",
       "      <td>...</td>\n",
       "      <td>...</td>\n",
       "      <td>...</td>\n",
       "      <td>...</td>\n",
       "    </tr>\n",
       "    <tr>\n",
       "      <td>2020-02-20</td>\n",
       "      <td>1519.010010</td>\n",
       "      <td>1527.069946</td>\n",
       "      <td>1504.260010</td>\n",
       "      <td>1516.989990</td>\n",
       "      <td>1516.989990</td>\n",
       "      <td>1298100</td>\n",
       "      <td>-0.005168</td>\n",
       "    </tr>\n",
       "    <tr>\n",
       "      <td>2020-02-21</td>\n",
       "      <td>1504.579956</td>\n",
       "      <td>1510.949951</td>\n",
       "      <td>1478.489990</td>\n",
       "      <td>1483.459961</td>\n",
       "      <td>1483.459961</td>\n",
       "      <td>2126000</td>\n",
       "      <td>-0.022103</td>\n",
       "    </tr>\n",
       "    <tr>\n",
       "      <td>2020-02-24</td>\n",
       "      <td>1423.050049</td>\n",
       "      <td>1436.380005</td>\n",
       "      <td>1406.790039</td>\n",
       "      <td>1419.859985</td>\n",
       "      <td>1419.859985</td>\n",
       "      <td>2478000</td>\n",
       "      <td>-0.042873</td>\n",
       "    </tr>\n",
       "    <tr>\n",
       "      <td>2020-02-25</td>\n",
       "      <td>1431.000000</td>\n",
       "      <td>1436.849976</td>\n",
       "      <td>1380.420044</td>\n",
       "      <td>1386.319946</td>\n",
       "      <td>1386.319946</td>\n",
       "      <td>2579000</td>\n",
       "      <td>-0.023622</td>\n",
       "    </tr>\n",
       "    <tr>\n",
       "      <td>2020-02-26</td>\n",
       "      <td>1394.979980</td>\n",
       "      <td>1413.670044</td>\n",
       "      <td>1376.550049</td>\n",
       "      <td>1390.469971</td>\n",
       "      <td>1390.469971</td>\n",
       "      <td>2488800</td>\n",
       "      <td>0.002994</td>\n",
       "    </tr>\n",
       "  </tbody>\n",
       "</table>\n",
       "<p>1258 rows × 7 columns</p>\n",
       "</div>"
      ],
      "text/plain": [
       "                   Open         High          Low        Close    Adj Close  \\\n",
       "Date                                                                          \n",
       "2015-02-27   558.150024   569.419983   557.030029   562.630005   562.630005   \n",
       "2015-03-02   567.000000   575.989990   563.150024   575.020020   575.020020   \n",
       "2015-03-03   576.349976   580.849976   570.500000   578.789978   578.789978   \n",
       "2015-03-04   576.969971   581.630005   572.520020   578.330017   578.330017   \n",
       "2015-03-05   579.619995   583.200012   578.229980   581.429993   581.429993   \n",
       "...                 ...          ...          ...          ...          ...   \n",
       "2020-02-20  1519.010010  1527.069946  1504.260010  1516.989990  1516.989990   \n",
       "2020-02-21  1504.579956  1510.949951  1478.489990  1483.459961  1483.459961   \n",
       "2020-02-24  1423.050049  1436.380005  1406.790039  1419.859985  1419.859985   \n",
       "2020-02-25  1431.000000  1436.849976  1380.420044  1386.319946  1386.319946   \n",
       "2020-02-26  1394.979980  1413.670044  1376.550049  1390.469971  1390.469971   \n",
       "\n",
       "             Volume  Daily Return  \n",
       "Date                               \n",
       "2015-02-27  3416400           NaN  \n",
       "2015-03-02  2520300      0.022022  \n",
       "2015-03-03  2526300      0.006556  \n",
       "2015-03-04  1898200     -0.000795  \n",
       "2015-03-05  1795900      0.005360  \n",
       "...             ...           ...  \n",
       "2020-02-20  1298100     -0.005168  \n",
       "2020-02-21  2126000     -0.022103  \n",
       "2020-02-24  2478000     -0.042873  \n",
       "2020-02-25  2579000     -0.023622  \n",
       "2020-02-26  2488800      0.002994  \n",
       "\n",
       "[1258 rows x 7 columns]"
      ]
     },
     "execution_count": 47,
     "metadata": {},
     "output_type": "execute_result"
    }
   ],
   "source": [
    "#Part D\n",
    "#Calculated Daily Returns for GOOGL and ^GSPC\n",
    "GOOGL_DF['Daily Return'] = GOOGL_DF['Adj Close'].pct_change()\n",
    "SP500_DF['Daily Return'] = SP500_DF['Adj Close'].pct_change()\n",
    "\n",
    "GOOGL_DF"
   ]
  },
  {
   "cell_type": "code",
   "execution_count": 48,
   "metadata": {},
   "outputs": [],
   "source": [
    "#Isolated the Daily Returns for years 2018-2019 \n",
    "GOOGL_Returns_DF = pd.DataFrame(GOOGL_DF.loc['2017-12-31':'2019-12-31', 'Daily Return'])\n",
    "SP500_Returns_DF = pd.DataFrame(SP500_DF.loc['2017-12-31':'2019-12-31', 'Daily Return'])"
   ]
  },
  {
   "cell_type": "code",
   "execution_count": 49,
   "metadata": {},
   "outputs": [
    {
     "data": {
      "image/png": "[encoded data removed]",
      "text/plain": [
       "<Figure size 432x288 with 1 Axes>"
      ]
     },
     "metadata": {
      "needs_background": "light"
     },
     "output_type": "display_data"
    }
   ],
   "source": [
    "#Graphed the Beta using the 2018-2019 Daily Returns for GOOGL and ^GSPC\n",
    "plt.title(\"GOOGL Beta\")\n",
    "#plt.scatter(GOOGL_Returns_DF.index, GOOGL_Returns_DF[\"Daily Return\"], label='GOOGL')\n",
    "#plt.scatter(SP500_Returns_DF.index, SP500_Returns_DF['Daily Return'], label = 'S&P 500')\n",
    "#plt.legend(loc='upper left')\n",
    "#plt.show()\n",
    "\n",
    "\n",
    "\n",
    "\n",
    "plt.scatter(SP500_Returns_DF, GOOGL_Returns_DF)\n",
    "plt.xlabel('SP500 returns')\n",
    "plt.ylabel('GOOGl returns')\n",
    "plt.show()"
   ]
  },
  {
   "cell_type": "code",
   "execution_count": 50,
   "metadata": {},
   "outputs": [
    {
     "name": "stdout",
     "output_type": "stream",
     "text": [
      "                            OLS Regression Results                            \n",
      "==============================================================================\n",
      "Dep. Variable:           Daily Return   R-squared:                       0.585\n",
      "Model:                            OLS   Adj. R-squared:                  0.584\n",
      "Method:                 Least Squares   F-statistic:                     707.2\n",
      "Date:                Tue, 03 Mar 2020   Prob (F-statistic):           8.03e-98\n",
      "Time:                        15:53:17   Log-Likelihood:                 1575.8\n",
      "No. Observations:                 503   AIC:                            -3148.\n",
      "Df Residuals:                     501   BIC:                            -3139.\n",
      "Df Model:                           1                                         \n",
      "Covariance Type:            nonrobust                                         \n",
      "================================================================================\n",
      "                   coef    std err          t      P>|t|      [0.025      0.975]\n",
      "--------------------------------------------------------------------------------\n",
      "const         5.153e-05      0.000      0.109      0.913      -0.001       0.001\n",
      "Daily Return     1.3319      0.050     26.592      0.000       1.234       1.430\n",
      "==============================================================================\n",
      "Omnibus:                      126.289   Durbin-Watson:                   1.914\n",
      "Prob(Omnibus):                  0.000   Jarque-Bera (JB):             5016.681\n",
      "Skew:                           0.108   Prob(JB):                         0.00\n",
      "Kurtosis:                      18.470   Cond. No.                         106.\n",
      "==============================================================================\n",
      "\n",
      "Warnings:\n",
      "[1] Standard Errors assume that the covariance matrix of the errors is correctly specified.\n"
     ]
    }
   ],
   "source": [
    "# Calculate linear regression of GOOGL vs ^GSPC\n",
    "\n",
    "import statsmodels.api as sm\n",
    "\n",
    "i_variables = sm.add_constant(SP500_Returns_DF) #\n",
    "model = sm.OLS(GOOGL_Returns_DF, i_variables).fit()\n",
    "summary = model.summary()\n",
    "print(summary)\n",
    "\n"
   ]
  },
  {
   "cell_type": "code",
   "execution_count": 51,
   "metadata": {},
   "outputs": [
    {
     "data": {
      "text/plain": [
       "5.153222688890867e-05"
      ]
     },
     "execution_count": 51,
     "metadata": {},
     "output_type": "execute_result"
    }
   ],
   "source": [
    "b = GOOGL_Returns_DF['Daily Return'].mean() - (1.3319 * SP500_Returns_DF['Daily Return'].mean())\n",
    "\n",
    "b"
   ]
  },
  {
   "cell_type": "code",
   "execution_count": 52,
   "metadata": {},
   "outputs": [
    {
     "name": "stdout",
     "output_type": "stream",
     "text": [
      "The regression line is Y = 1.3319x + 5.153222688890867e-05 or GOOGL Returns = 1.3319 * SP500 Returns + 5.153222688890867e-05\n",
      "R-squared is 0.585\n",
      "The beta of GOOGL is 1.3319\n"
     ]
    }
   ],
   "source": [
    "#Regression Line\n",
    "#R-Squared\n",
    "#Regression Line Slope (Beta)\n",
    "\n",
    "print('The regression line is Y = 1.3319x +', b, 'or GOOGL Returns = 1.3319 * SP500 Returns +', b)\n",
    "print('R-squared is 0.585')\n",
    "print('The beta of GOOGL is 1.3319')"
   ]
  },
  {
   "cell_type": "code",
   "execution_count": 53,
   "metadata": {},
   "outputs": [
    {
     "name": "stdout",
     "output_type": "stream",
     "text": [
      "GOOGLs best day was  2015-07-17 00:00:00 \n",
      " Adj Close was  699.619995 \n",
      " Daily Return was 0.16258426881095445 \n",
      "\n",
      "GOOGLs worst day was  2019-04-30 00:00:00 \n",
      " Adj Close was  1198.959961 \n",
      " Daily Return was -0.07501928226812593 \n",
      "\n",
      "^GSPCs best day was  2018-12-26 00:00:00 \n",
      " Adj Close was  2467.699951 \n",
      " Daily Return was 0.04959374256297622 \n",
      "\n",
      "^GSPCs worst day was  2018-02-05 00:00:00 \n",
      " Adj Close was  2648.939941 \n",
      " Daily Return was -0.04097922501640716 \n",
      "\n"
     ]
    }
   ],
   "source": [
    "# Part E\n",
    "# Identified the largest positive and negative outliers for both GOOGL and ^GSPC\n",
    "GOOGL_DF['Date'] = GOOGL_DF.index\n",
    "SP500_DF['Date'] = SP500_DF.index\n",
    "\n",
    "GOOGL_High = GOOGL_DF.loc[GOOGL_DF['Daily Return'].idxmax()]\n",
    "GOOGL_Low = GOOGL_DF.loc[GOOGL_DF['Daily Return'].idxmin()]\n",
    "\n",
    "SP500_High = SP500_DF.loc[SP500_DF['Daily Return'].idxmax()]\n",
    "SP500_Low = SP500_DF.loc[SP500_DF['Daily Return'].idxmin()]\n",
    "\n",
    "print('GOOGLs best day was ',  GOOGL_High['Date'], '\\n Adj Close was ', GOOGL_High['Adj Close'], \n",
    "      '\\n Daily Return was', GOOGL_High['Daily Return'], '\\n')\n",
    "\n",
    "print('GOOGLs worst day was ',  GOOGL_Low['Date'], '\\n Adj Close was ', GOOGL_Low['Adj Close'], \n",
    "      '\\n Daily Return was', GOOGL_Low['Daily Return'], '\\n')\n",
    "\n",
    "print('^GSPCs best day was ',  SP500_High['Date'], '\\n Adj Close was ', SP500_High['Adj Close'], \n",
    "      '\\n Daily Return was', SP500_High['Daily Return'], '\\n')\n",
    "\n",
    "print('^GSPCs worst day was ',  SP500_Low['Date'], '\\n Adj Close was ', SP500_Low['Adj Close'], \n",
    "      '\\n Daily Return was', SP500_Low['Daily Return'], '\\n')"
   ]
  },
  {
   "cell_type": "code",
   "execution_count": 54,
   "metadata": {},
   "outputs": [],
   "source": [
    "#Part F\n",
    "#Analyzing data for GOOGl and ^GSPC from 2019"
   ]
  },
  {
   "cell_type": "code",
   "execution_count": 55,
   "metadata": {},
   "outputs": [
    {
     "data": {
      "image/png": "[encoded data removed]",
      "text/plain": [
       "<Figure size 432x288 with 1 Axes>"
      ]
     },
     "metadata": {
      "needs_background": "light"
     },
     "output_type": "display_data"
    }
   ],
   "source": [
    "# historgram of daily returns for GOOGL in 2019, granularity of 20 bins\n",
    "\n",
    "GOOGL_2019 = GOOGL_DF.loc['2018-12-31':'2019-12-31', 'Daily Return']\n",
    "\n",
    "plt.hist(GOOGL_2019, 20)\n",
    "plt.show()"
   ]
  },
  {
   "cell_type": "code",
   "execution_count": 56,
   "metadata": {},
   "outputs": [
    {
     "name": "stdout",
     "output_type": "stream",
     "text": [
      "Mean = 0.00109\n",
      "Standard Deviation = 0.01490\n"
     ]
    }
   ],
   "source": [
    "#Mean and Standard Deviation of daily returns for 2019\n",
    "\n",
    "\n",
    "print(\"Mean =\", \"%.5f\" % GOOGL_2019.mean())\n",
    "print(\"Standard Deviation =\", \"%.5f\" % GOOGL_2019.std())"
   ]
  },
  {
   "cell_type": "code",
   "execution_count": 57,
   "metadata": {},
   "outputs": [
    {
     "name": "stdout",
     "output_type": "stream",
     "text": [
      "Skewness = 0.3\n",
      "Kurtosis = 9.7\n",
      "GOOGLs histogram has a normal distribution skew, but not a normal distribution kurtosis.\n"
     ]
    }
   ],
   "source": [
    "#Checking histogram for normal distribution\n",
    "\n",
    "print(\"Skewness =\", \"%.1f\" % GOOGL_2019.skew())\n",
    "print(\"Kurtosis =\", \"%.1f\" % GOOGL_2019.kurt())\n",
    "print('GOOGLs histogram has a normal distribution skew, but not a normal distribution kurtosis.')"
   ]
  },
  {
   "cell_type": "code",
   "execution_count": null,
   "metadata": {},
   "outputs": [],
   "source": []
  }
 ],
 "metadata": {
  "kernelspec": {
   "display_name": "Python 3",
   "language": "python",
   "name": "python3"
  },
  "language_info": {
   "codemirror_mode": {
    "name": "ipython",
    "version": 3
   },
   "file_extension": ".py",
   "mimetype": "text/x-python",
   "name": "python",
   "nbconvert_exporter": "python",
   "pygments_lexer": "ipython3",
   "version": "3.7.4"
  }
 },
 "nbformat": 4,
 "nbformat_minor": 2
}
